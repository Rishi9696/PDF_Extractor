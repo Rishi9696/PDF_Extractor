{
 "cells": [
  {
   "cell_type": "code",
   "execution_count": 47,
   "metadata": {},
   "outputs": [],
   "source": [
    "import pdfplumber\n",
    "import pandas as pd\n",
    "import re\n",
    "\n",
    "def extract_transaction_lines(page):\n",
    "    \"\"\"Extract transaction lines with improved detection using regex.\"\"\"\n",
    "    text = page.extract_text()\n",
    "    # Regex pattern to match transaction lines more accurately\n",
    "    pattern = r'\\d{2}-\\w{3}-\\d{4}\\s+[TC]\\s+.*?\\d+,\\d+\\.\\d{2}[DC][rR]?'\n",
    "    transactions = re.findall(pattern, text.replace('\\n', ' '))\n",
    "    \n",
    "    data = []\n",
    "    for transaction in transactions:\n",
    "        # Further split each transaction into components\n",
    "        parts = transaction.split()\n",
    "        date = parts[0]\n",
    "        transaction_type = parts[1]\n",
    "        description = ' '.join(parts[2:-3])\n",
    "        amount = parts[-3]\n",
    "        balance = parts[-2] + parts[-1]\n",
    "        data.append([date, transaction_type, description, amount, balance])\n",
    "    \n",
    "    return data\n",
    "\n",
    "def process_pdf_to_excel(pdf_path, excel_path):\n",
    "    \"\"\"Process PDF and export extracted transaction data to Excel, with improvements.\"\"\"\n",
    "    with pdfplumber.open(pdf_path) as pdf, pd.ExcelWriter(excel_path, engine='openpyxl') as writer:\n",
    "        all_transactions = []\n",
    "        for page in pdf.pages:\n",
    "            transactions = extract_transaction_lines(page)\n",
    "            all_transactions.extend(transactions)\n",
    "        \n",
    "        if all_transactions:\n",
    "            df = pd.DataFrame(all_transactions, columns=['Date', 'Type', 'Description', 'Amount', 'Balance'])\n",
    "            df.to_excel(writer, sheet_name='Transactions', index=False)\n",
    "\n",
    "if __name__ == \"__main__\":\n",
    "    pdf_file_path = 'test3.pdf'\n",
    "    output_excel_path = 'extracted_transactions_improved.xlsx'\n",
    "    process_pdf_to_excel(pdf_file_path, output_excel_path)"
   ]
  },
  {
   "cell_type": "code",
   "execution_count": null,
   "metadata": {},
   "outputs": [],
   "source": []
  }
 ],
 "metadata": {
  "kernelspec": {
   "display_name": "base",
   "language": "python",
   "name": "python3"
  },
  "language_info": {
   "codemirror_mode": {
    "name": "ipython",
    "version": 3
   },
   "file_extension": ".py",
   "mimetype": "text/x-python",
   "name": "python",
   "nbconvert_exporter": "python",
   "pygments_lexer": "ipython3",
   "version": "3.10.10"
  },
  "orig_nbformat": 4
 },
 "nbformat": 4,
 "nbformat_minor": 2
}
